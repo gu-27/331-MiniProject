{
  "nbformat": 4,
  "nbformat_minor": 0,
  "metadata": {
    "colab": {
      "provenance": [],
      "authorship_tag": "ABX9TyMVd655V1HNfSFVW42U/Wfu",
      "include_colab_link": true
    },
    "kernelspec": {
      "name": "python3",
      "display_name": "Python 3"
    },
    "language_info": {
      "name": "python"
    }
  },
  "cells": [
    {
      "cell_type": "markdown",
      "metadata": {
        "id": "view-in-github",
        "colab_type": "text"
      },
      "source": [
        "<a href=\"https://colab.research.google.com/github/gu-27/331-MiniProject/blob/main/MiniProjectShare.ipynb\" target=\"_parent\"><img src=\"https://colab.research.google.com/assets/colab-badge.svg\" alt=\"Open In Colab\"/></a>"
      ]
    },
    {
      "cell_type": "markdown",
      "source": [
        "This is my mini project"
      ],
      "metadata": {
        "id": "HrSPtsExKFSg"
      }
    },
    {
      "cell_type": "code",
      "execution_count": null,
      "metadata": {
        "colab": {
          "base_uri": "https://localhost:8080/"
        },
        "id": "YZvE2Tl5Jslj",
        "outputId": "ccd00136-3138-4177-dd2b-2c64df3f9b37"
      },
      "outputs": [
        {
          "output_type": "stream",
          "name": "stdout",
          "text": [
            "hello\n"
          ]
        }
      ],
      "source": [
        "print (\"hellosssss\")"
      ]
    },
    {
      "cell_type": "code",
      "source": [
        "# prompt: i have a csv file in the main documents folder called SampleScores.csv, import this into my program using pandas dataframes\n",
        "\n",
        "import pandas as pd\n",
        "\n",
        "\n",
        "\n",
        "# Read the CSV file from your Google Drive\n",
        "df = pd.read_csv('SampleScores.csv')\n",
        "\n",
        "# Print the DataFrame to see its contents\n",
        "print(df)\n"
      ],
      "metadata": {
        "colab": {
          "base_uri": "https://localhost:8080/"
        },
        "id": "qg-k887eKR51",
        "outputId": "031d234f-7268-4387-9653-a04ebfb78962"
      },
      "execution_count": null,
      "outputs": [
        {
          "output_type": "stream",
          "name": "stdout",
          "text": [
            "  first_name last_name  hw_sum  exam_sum  quiz_sum  attendance\n",
            "0       John   Correia      80        84        98         100\n",
            "1      Candy   Correia      90        97        80         100\n",
            "2      Kalia   Correia      77        88        77          99\n",
            "3      Melia   Correia      65        56        75          54\n",
            "4       Fido   Correia      22        45         3           1\n"
          ]
        }
      ]
    },
    {
      "cell_type": "code",
      "source": [
        "# prompt: take the dataframe above and create a new dataframe just for John's scores\n",
        "\n",
        "# Filter the DataFrame to get only John's scores\n",
        "df_john = df[df['first_name'] == 'John']\n",
        "\n",
        "# Print the new DataFrame to see its contents\n",
        "print(df_john)\n"
      ],
      "metadata": {
        "colab": {
          "base_uri": "https://localhost:8080/"
        },
        "id": "7X-ZRF9FLFKz",
        "outputId": "6548a11c-9d8e-492d-e390-4e7b266ac376"
      },
      "execution_count": null,
      "outputs": [
        {
          "output_type": "stream",
          "name": "stdout",
          "text": [
            "  first_name last_name  hw_sum  exam_sum  quiz_sum  attendance\n",
            "0       John   Correia      80        84        98         100\n"
          ]
        }
      ]
    },
    {
      "cell_type": "code",
      "source": [
        "print (\"new\")"
      ],
      "metadata": {
        "colab": {
          "base_uri": "https://localhost:8080/"
        },
        "id": "H6yh2RdANBB2",
        "outputId": "8f23fe67-dbb5-4796-e7c7-a18ffd470620"
      },
      "execution_count": null,
      "outputs": [
        {
          "output_type": "stream",
          "name": "stdout",
          "text": [
            "new\n"
          ]
        }
      ]
    }
  ]
}